{
  "nbformat": 4,
  "nbformat_minor": 0,
  "metadata": {
    "colab": {
      "provenance": [],
      "authorship_tag": "ABX9TyPPrMTb/Gz66Q54v3Vxhvix",
      "include_colab_link": true
    },
    "kernelspec": {
      "name": "python3",
      "display_name": "Python 3"
    },
    "language_info": {
      "name": "python"
    }
  },
  "cells": [
    {
      "cell_type": "markdown",
      "metadata": {
        "id": "view-in-github",
        "colab_type": "text"
      },
      "source": [
        "<a href=\"https://colab.research.google.com/github/hanan-asm/data-science/blob/data-s/Untitled3.ipynb\" target=\"_parent\"><img src=\"https://colab.research.google.com/assets/colab-badge.svg\" alt=\"Open In Colab\"/></a>"
      ]
    },
    {
      "cell_type": "code",
      "execution_count": null,
      "metadata": {
        "id": "33LMHfnvJt4z"
      },
      "outputs": [],
      "source": []
    },
    {
      "cell_type": "markdown",
      "source": [
        "1,**list**- is a data structure that is mutable(can be changed after it's created.ie, modify, add, remove), hetrogenous(can hold elements of different data types) with ordered sequence of items(the elements in a list have a specific order or index).\n",
        "are crated with square brackets[].\n",
        "**example**- student= [\"hanan\",20,[02,14],2.5]\n",
        "\n",
        "**dictionary**- is a data structure that stores data in a form of key-value pairs. it is mutable but keys are immutable and unique. values can be any data type.\n",
        "are created with curles braces{}.\n",
        "**example**- student= {\"name\":\"hanan\",\"age\":20,\"kebele\":02}\n",
        "\n",
        "**NumPy array**- is a data structure found in NumPy library that is mainly used for numerical computations. it is a mutable, homogenous(all the elements must have the same data type) with ordered sequence of items.\n",
        "are created using numpy.array().\n",
        "example- numbers= numpy.array([10,2,30,40])"
      ],
      "metadata": {
        "id": "6ATYq50wJvsg"
      }
    },
    {
      "cell_type": "code",
      "source": [
        "list_nums= [10, 15, 20, 25, 30]\n",
        "squared_list = []\n",
        "for i in list_nums:\n",
        "    if i % 2 == 0:\n",
        "        squared_list.append(i ** 2)\n",
        "print(squared_list)"
      ],
      "metadata": {
        "colab": {
          "base_uri": "https://localhost:8080/"
        },
        "id": "OeODf9C0Kedd",
        "outputId": "cd642842-1bb2-44f7-c355-392d253a30f0"
      },
      "execution_count": 1,
      "outputs": [
        {
          "output_type": "stream",
          "name": "stdout",
          "text": [
            "[100, 400, 900]\n"
          ]
        }
      ]
    },
    {
      "cell_type": "markdown",
      "source": [
        "2,**first line** Creates a list of numbers.\n",
        "\n",
        "**second line** Creates an empty list to store results.\n",
        "\n",
        "**third line** creats Loops through each number in the list.\n",
        "\n",
        "**fourth line** Checks if the number is even.\n",
        "\n",
        "**fifth line** If the number is even, it squares the number and adds it to the results list.\n",
        "\n",
        "**sixth line** Prints the list of squared even numbers."
      ],
      "metadata": {
        "id": "hQHey2bpK4Zc"
      }
    },
    {
      "cell_type": "markdown",
      "source": [
        "3,[1, 2, 3, 4]=output\n",
        "\n",
        "**reason**:\n",
        "\n",
        "x = [1, 2, 3]: A list x is created and initialized with the values 1, 2, and 3.\n",
        "\n",
        "y = x: The variable y is assigned the value of x. This is a reference assignment. i.e, y now points to the same list object in memory as x.\n",
        "\n",
        "y.append(4): The append() is called on the list referred to by y. This adds the value 4 to the end of the list. Since x and y both point to the same list, the appending affects both variables.\n",
        "\n",
        "print(x): The value of x is printed. Because x and y point to the same list that was appended by y.append(4), the output list is: [1, 2, 3, 4].\n",
        "\n"
      ],
      "metadata": {
        "id": "3hVjOvN9MU7M"
      }
    },
    {
      "cell_type": "markdown",
      "source": [
        "4,**.shape**: tells the structure or dimention of the pandas dataframe as a tabular form of data(rows and columns).\n",
        "\n",
        "**it answers the questions:**\n",
        "  \n",
        "how many rows does this table has?\n",
        "\n",
        "how many columns does this table have?\n",
        "  \n",
        "example: (5, 4) denotes « five rows, four columns».\n",
        "  \n",
        "**.describe()**: offers a fast \"statistical summary\" of your numeric columns.\n",
        "\n",
        "**it answers the question:**\n",
        "  \n",
        "what's the average value in the column?\n",
        "\n",
        "what's the smallest and largest value?\n",
        "\n",
        "how spread out are the figures?\n",
        "\n",
        "what's the median?\n",
        "\n",
        "example: import pandas\n",
        "data = {'goats': [3, 2, 0, 1,10], 'sheeps': [0, 3, 7, 2,20]}\n",
        "df = pandas.DataFrame(data)\n",
        "print(\"Shape:\", df.shape)\n",
        "print(\"\\nDescription:\\n\", df.describe())"
      ],
      "metadata": {
        "id": "_AxErVofOBFJ"
      }
    },
    {
      "cell_type": "code",
      "source": [
        "\n",
        "import pandas as panda\n",
        "data = {\n",
        "    'goats': [3, 2, 0, 1, 10],\n",
        "    'sheeps': [0, 3, 7, 2, 20]\n",
        "}\n",
        "counting = panda.DataFrame(data)\n",
        "print(\"Shape:\", counting.shape)\n",
        "print(\"\\nDescription:\\n\", counting.describe())\n",
        "\n",
        "\n"
      ],
      "metadata": {
        "colab": {
          "base_uri": "https://localhost:8080/"
        },
        "id": "-nfufEjuXId2",
        "outputId": "33206f72-04ed-4340-e252-6bb11b2969de"
      },
      "execution_count": 6,
      "outputs": [
        {
          "output_type": "stream",
          "name": "stdout",
          "text": [
            "Shape: (5, 2)\n",
            "\n",
            "Description:\n",
            "            goats     sheeps\n",
            "count   5.000000   5.000000\n",
            "mean    3.200000   6.400000\n",
            "std     3.962323   8.018728\n",
            "min     0.000000   0.000000\n",
            "25%     1.000000   2.000000\n",
            "50%     2.000000   3.000000\n",
            "75%     3.000000   7.000000\n",
            "max    10.000000  20.000000\n"
          ]
        }
      ]
    },
    {
      "cell_type": "markdown",
      "source": [
        "**explanation of the example code for question number 4**\n",
        "\n",
        "**first line**: loads the pandas library to work with tables (DataFrames).\n",
        "\n",
        "**second to fifth line**: creates a dataset with counts of goats and sheeps.\n",
        "\n",
        "**sixth line**: turns the dataset into a table (DataFrame).\n",
        "\n",
        "**seventh line**: prints the table size → (5, 2) means 5 rows and 2 columns.\n",
        "\n",
        "**last line**: gives discription like mean, min, max, and standard deviation for each column."
      ],
      "metadata": {
        "id": "UndWymPVXevq"
      }
    },
    {
      "cell_type": "code",
      "source": [
        "import pandas as panda\n",
        "data = {\n",
        "    \"Month\": [\"JAN\", \"FEB\", \"MAR\", \"APR\", \"MAY\", \"JUN\", \"JUL\", \"AUG\", \"SEP\", \"OCT\", \"NOV\", \"DEC\"],\n",
        "    \"1958\": [340, 318, 362, 348, 363, 435, 491, 505, 404, 359, 310, 337],\n",
        "    \"1959\": [360, 342, 406, 396, 420, 472, 548, 559, 463, 407, 362, 405],\n",
        "    \"1960\": [417, 391, 419, 461, 472, 535, 622, 606, 508, 461, 390, 432]\n",
        "}\n",
        "\n",
        "airlines = panda.DataFrame(data)\n",
        "print(airlines[:5])"
      ],
      "metadata": {
        "colab": {
          "base_uri": "https://localhost:8080/"
        },
        "id": "pfvi8K7dWUyy",
        "outputId": "9e743abd-0e42-4cc0-d81b-fae84072bde9"
      },
      "execution_count": 5,
      "outputs": [
        {
          "output_type": "stream",
          "name": "stdout",
          "text": [
            "  Month  1958  1959  1960\n",
            "0   JAN   340   360   417\n",
            "1   FEB   318   342   391\n",
            "2   MAR   362   406   419\n",
            "3   APR   348   396   461\n",
            "4   MAY   363   420   472\n"
          ]
        }
      ]
    },
    {
      "cell_type": "markdown",
      "source": [
        "5,**explanation on the code foe question 5**:\n",
        "\n",
        "it is almost the same code i used for question **number 4**\n",
        "\n",
        "the difference is the code i used for **number 4** creats a dataset with **counts of goats and sheeps** and **prints table size and column discription**, where as the code i used for **number 5** creats a dataset with\n",
        "**air travel numbers** for each month from 1958 to 1960 and **prints the first five rows.**\n",
        "\n",
        "**what do i notice about the data?**:"
      ],
      "metadata": {
        "id": "XzgvAPIjUEd4"
      }
    },
    {
      "cell_type": "code",
      "source": [
        "import pandas as panda\n",
        "data = {\n",
        "    \"Month\": [\"JAN\", \"FEB\", \"MAR\", \"APR\", \"MAY\", \"JUN\", \"JUL\", \"AUG\", \"SEP\", \"OCT\", \"NOV\", \"DEC\"],\n",
        "    \"1958\": [340, 318, 362, 348, 363, 435, 491, 505, 404, 359, 310, 337],\n",
        "    \"1959\": [360, 342, 406, 396, 420, 472, 548, 559, 463, 407, 362, 405],\n",
        "    \"1960\": [417, 391, 419, 461, 472, 535, 622, 606, 508, 461, 390, 432]\n",
        "}\n",
        "\n",
        "airlines = panda.DataFrame(data)\n",
        "print(airlines[5:])"
      ],
      "metadata": {
        "colab": {
          "base_uri": "https://localhost:8080/"
        },
        "id": "AHOwmXL3eCwQ",
        "outputId": "08592975-91bd-4cfa-dd67-94404955bef5"
      },
      "execution_count": 8,
      "outputs": [
        {
          "output_type": "stream",
          "name": "stdout",
          "text": [
            "   Month  1958  1959  1960\n",
            "5    JUN   435   472   535\n",
            "6    JUL   491   548   622\n",
            "7    AUG   505   559   606\n",
            "8    SEP   404   463   508\n",
            "9    OCT   359   407   461\n",
            "10   NOV   310   362   390\n",
            "11   DEC   337   405   432\n"
          ]
        }
      ]
    },
    {
      "cell_type": "markdown",
      "source": [
        "6, the **month with the highest total passengers** is"
      ],
      "metadata": {
        "id": "JSYFe2dIfBN9"
      }
    },
    {
      "cell_type": "code",
      "source": [
        "import pandas as panda\n",
        "data = {\n",
        "    \"Month\": [\"JAN\", \"FEB\", \"MAR\", \"APR\", \"MAY\", \"JUN\", \"JUL\", \"AUG\", \"SEP\", \"OCT\", \"NOV\", \"DEC\"],\n",
        "    \"1958\": [340, 318, 362, 348, 363, 435, 491, 505, 404, 359, 310, 337],\n",
        "    \"1959\": [360, 342, 406, 396, 420, 472, 548, 559, 463, 407, 362, 405],\n",
        "    \"1960\": [417, 391, 419, 461, 472, 535, 622, 606, 508, 461, 390, 432]\n",
        "}\n",
        "\n",
        "airlines = panda.DataFrame(data)\n",
        "airlines['ava'] = airlines['1958'] + airlines['1959'] + airlines['1960']\n",
        "\n",
        "highcust= airlines.loc[airlines['ava'].idxmax()]\n",
        "highmonth = highcust['Month']\n",
        "highvalue= highcust['ava']\n",
        "\n",
        "lowcust_1958 = airlines.loc[airlines['1958'].idxmin()]\n",
        "lowmonth_1958 = lowcust_1958['Month']\n",
        "lowvalue_1958 = lowcust_1958['1958']\n",
        "\n",
        "print(f\"The month with the highest total passengers is {highmonth} with {highvalue} passengers.\")\n",
        "print(f\"The month with the lowest total passengers in 1958 is {lowmonth_1958} with {lowvalue_1958} passengers.\")\n",
        "\n"
      ],
      "metadata": {
        "colab": {
          "base_uri": "https://localhost:8080/"
        },
        "id": "cXCjPCaBgABc",
        "outputId": "c7e5372a-3f96-4545-9b1a-81c627514154"
      },
      "execution_count": 19,
      "outputs": [
        {
          "output_type": "stream",
          "name": "stdout",
          "text": [
            "The month with the highest total passengers is AUG with 1670 passengers.\n",
            "The month with the lowest total passengers in 1958 is NOV with 310 passengers.\n"
          ]
        }
      ]
    },
    {
      "cell_type": "markdown",
      "source": [
        "**explanation of the code for number 6**\n",
        "\n",
        "**airlines['ava']**: calculates the total passangers for each month.\n",
        "\n",
        "**the next code**: to find the month with the highest total passangers.\n",
        "\n",
        "**the code after that**: to find the month with the lowest passangers in 1958.\n",
        "\n",
        "**the last lines**: to print the results.\n",
        "\n",
        "i used **.loc** to access rows and columns by the data frame name and **.idxmax() and .idxmin()** to return the index of the row with maximum and minimum value.\n",
        "\n"
      ],
      "metadata": {
        "id": "7ukLtZbSlOQ_"
      }
    },
    {
      "cell_type": "markdown",
      "source": [
        "7,**.groupby()**: is used to group a DataFrame based on one or more keys (columns).\n"
      ],
      "metadata": {
        "id": "0F5StMLGmmiM"
      }
    },
    {
      "cell_type": "code",
      "source": [
        "import pandas as panda\n",
        "\n",
        "data = {\n",
        "    \"Name\": [\"hanan\", \"hana\", \"han\", \"Helen\",\"Sophia\", \"Dawit\"],\n",
        "    \"Age\": [20, 34, 45, 23, 30, 60,],\n",
        "    \"subcity\": [\"yeka\", \"yeka\", \"arada\", \"bole\", \"arada\", \"yeka\"]\n",
        "}\n",
        "\n",
        "citizen = panda.DataFrame(data)\n",
        "\n",
        "grouped_subcity= citizen.groupby('subcity').size()\n",
        "\n",
        "print(grouped_subcity)"
      ],
      "metadata": {
        "colab": {
          "base_uri": "https://localhost:8080/"
        },
        "id": "kaVbSKp_f9Bh",
        "outputId": "044bfe69-6f48-41e7-ddb1-e295706c3ad0"
      },
      "execution_count": 25,
      "outputs": [
        {
          "output_type": "stream",
          "name": "stdout",
          "text": [
            "subcity\n",
            "arada    2\n",
            "bole     1\n",
            "yeka     3\n",
            "dtype: int64\n"
          ]
        }
      ]
    },
    {
      "cell_type": "markdown",
      "source": [
        "**explanation for the code in number 7 example**:\n",
        "\n",
        "**citizen.groupby**: groups the dataframe by the subcity status column. the data will be divided into groups based on the persons subcity.\n",
        "\n",
        "**.size**: counts how many people are in each subcity."
      ],
      "metadata": {
        "id": "yLShgu8Atinw"
      }
    },
    {
      "cell_type": "markdown",
      "source": [],
      "metadata": {
        "id": "x8xXjwGNvGco"
      }
    },
    {
      "cell_type": "code",
      "source": [
        "import seaborn as sb\n",
        "import pandas as panda\n",
        "\n",
        "ti = sb.load_dataset('titanic')\n",
        "\n",
        "missing_values = ti.isnull().sum()\n",
        "print(missing_values)"
      ],
      "metadata": {
        "colab": {
          "base_uri": "https://localhost:8080/"
        },
        "id": "uHh461xEvp7N",
        "outputId": "de91ac69-84d8-4611-d7c3-f0b1674e55fe"
      },
      "execution_count": 30,
      "outputs": [
        {
          "output_type": "stream",
          "name": "stdout",
          "text": [
            "survived         0\n",
            "pclass           0\n",
            "sex              0\n",
            "age            177\n",
            "sibsp            0\n",
            "parch            0\n",
            "fare             0\n",
            "embarked         2\n",
            "class            0\n",
            "who              0\n",
            "adult_male       0\n",
            "deck           688\n",
            "embark_town      2\n",
            "alive            0\n",
            "alone            0\n",
            "dtype: int64\n"
          ]
        }
      ]
    },
    {
      "cell_type": "markdown",
      "source": [
        "8,**explanation**:\n",
        "\n",
        "**seaborn**: is a Python library used for making beautiful and easy-to-read graphs.\n",
        "\n",
        "**titanic dataset**: is a sample dataset that comes with Seaborn.\n",
        "\n",
        "**.isnull()**: Checks each cell in the table to see if it's empty (missing).\n",
        "Gives True for missing, False for not missing.\n",
        "**.sum()**: aAdds up all the True values in each column.\n",
        "Since True = 1, it tells you how many missing values each column has.\n",
        "Simple Summary:"
      ],
      "metadata": {
        "id": "YoGZhBUGw66j"
      }
    },
    {
      "cell_type": "code",
      "source": [
        "import seaborn as sb\n",
        "import matplotlib.pyplot as plt\n",
        "\n",
        "df = sb.load_dataset(\"titanic\")\n",
        "\n",
        "df[\"age\"].hist(bins=20, edgecolor='red')\n",
        "\n",
        "plt.title(\"Age Distribution of Titanic Passengers\")\n",
        "plt.xlabel(\"Age\")\n",
        "plt.ylabel(\"Number of Passengers\")\n",
        "\n",
        "plt.show()"
      ],
      "metadata": {
        "colab": {
          "base_uri": "https://localhost:8080/",
          "height": 472
        },
        "id": "Brzl7ccZym0E",
        "outputId": "e9170071-26f4-4a85-b2eb-7aefc3b8b6b1"
      },
      "execution_count": 32,
      "outputs": [
        {
          "output_type": "display_data",
          "data": {
            "text/plain": [
              "<Figure size 640x480 with 1 Axes>"
            ],
            "image/png": "[encoded data removed]"
          },
          "metadata": {}
        }
      ]
    },
    {
      "cell_type": "markdown",
      "source": [
        "9,**explanation**:\n",
        "\n",
        "**metplotlib.pyplot**: is used to show the chart.\n",
        "\n",
        "**line 3**: loads the titanic database into df.\n",
        "\n",
        "**line 4**: creats histogram(type of chart that shows the distribution of a database)of the **age** column, **bins=20** means the age range split into 20 groups.\n",
        "\n",
        "**the next lines**: add a title and axis names to the chart.\n",
        "\n",
        "**plt.**: is short name for metplotlib.pyplot.\n",
        "\n",
        "**.show**: displays the chart."
      ],
      "metadata": {
        "id": "FjRmUhQb0X03"
      }
    },
    {
      "cell_type": "markdown",
      "source": [
        "10,**high standard deviation**: means the values in a column are far from each other.\n",
        "\n",
        "**example**\n",
        "\n",
        "**high std.dev**=[10,100,1000,100000,40000]\n",
        "\n",
        "**low std.dev**=[1,2,1,3,2]"
      ],
      "metadata": {
        "id": "LZW8fpfO4HVf"
      }
    },
    {
      "cell_type": "code",
      "source": [
        "import pandas as panda\n",
        "import matplotlib.pyplot as pl\n",
        "\n",
        "data = {\n",
        "    'LowSD': [1,2,1,3,2],\n",
        "    'HighSD': [10,100,1000,100000,40000]\n",
        "}\n",
        "\n",
        "sd = panda.DataFrame(data)\n",
        "\n",
        "print(\"Standard Deviations:\")\n",
        "print(sd.std())\n",
        "\n",
        "df.plot(kind='line', title='comparision of low vs high standard deviation')\n",
        "pl.ylabel('Values')\n",
        "pl.show()"
      ],
      "metadata": {
        "colab": {
          "base_uri": "https://localhost:8080/",
          "height": 521
        },
        "id": "3-hm6STB5_zh",
        "outputId": "e7a5f61c-77f1-4e7a-e2c9-44e451a37ba3"
      },
      "execution_count": 38,
      "outputs": [
        {
          "output_type": "stream",
          "name": "stdout",
          "text": [
            "Standard Deviations:\n",
            "LowSD         0.836660\n",
            "HighSD    43642.306538\n",
            "dtype: float64\n"
          ]
        },
        {
          "output_type": "display_data",
          "data": {
            "text/plain": [
              "<Figure size 640x480 with 1 Axes>"
            ],
            "image/png": "[encoded data removed]"
          },
          "metadata": {}
        }
      ]
    },
    {
      "cell_type": "markdown",
      "source": [
        "**explanation**:\n",
        "\n",
        "**df.std()**: calculates how spread out the values are.\n",
        "\n",
        "**the next line**: create a line plot and shows the range and spread of each column."
      ],
      "metadata": {
        "id": "zKrtyG2K8RyN"
      }
    },
    {
      "cell_type": "markdown",
      "source": [
        "11, **a,medical diagnosis and medication problem**: **example** :if a patient's medical record is mssing an allergy info, the doctor may give the wrong medication and risk the patient's life.\n",
        "\n",
        "**b,bankking problem: example**: if data from one ATM transaction is missing, fraud systems may not find the activity.\n",
        "\n"
      ],
      "metadata": {
        "id": "laL7yDQ05bUP"
      }
    },
    {
      "cell_type": "code",
      "source": [],
      "metadata": {
        "id": "LDOSohz0B40v"
      },
      "execution_count": null,
      "outputs": []
    }
  ]
}